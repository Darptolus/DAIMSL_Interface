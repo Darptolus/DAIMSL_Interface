{
 "cells": [
  {
   "cell_type": "code",
   "execution_count": null,
   "id": "511022c8",
   "metadata": {},
   "outputs": [],
   "source": [
    "import os\n",
    "import copy\n",
    "\n",
    "# Store a deep copy of the original environment\n",
    "original_env = copy.deepcopy(os.environ)"
   ]
  },
  {
   "cell_type": "code",
   "execution_count": null,
   "id": "4f00a212",
   "metadata": {},
   "outputs": [],
   "source": [
    "# Reset os.environ to its original state\n",
    "os.environ.clear()\n",
    "os.environ.update(original_env)"
   ]
  },
  {
   "cell_type": "code",
   "execution_count": null,
   "id": "c007ab41",
   "metadata": {},
   "outputs": [],
   "source": [
    "import os\n",
    "import subprocess\n",
    "\n",
    "# Set base path \n",
    "mypath = \"/home/droaperdomo/tools/mpich\"\n",
    "\n",
    "# Define mapping of subdirs to environment variables\n",
    "paths = {\n",
    "    \"bin\": [\"PATH\"],\n",
    "    \"lib\": [\"LIBRARY_PATH\", \"LD_LIBRARY_PATH\"],\n",
    "    \"lib64\": [\"LIBRARY_PATH\", \"LD_LIBRARY_PATH\"],\n",
    "    \"include\": [\"CPATH\", \"C_INCLUDE_PATH\", \"CPLUS_INCLUDE_PATH\"],\n",
    "    \"lib/pkgconfig\": [\"PKG_CONFIG_PATH\"]\n",
    "}\n",
    "\n",
    "def prepend_env(var, value):\n",
    "    current = os.environ.get(var, \"\")\n",
    "    if value not in current.split(\":\"):\n",
    "        os.environ[var] = f\"{value}:{current}\" if current else value\n",
    "\n",
    "# Apply the changes\n",
    "for subdir, env_vars in paths.items():\n",
    "    full_path = os.path.join(mypath, subdir)\n",
    "    if os.path.isdir(full_path):\n",
    "        for var in env_vars:\n",
    "            prepend_env(var, full_path)\n",
    "\n",
    "# Confirm updated environment (optional)\n",
    "for var in set(sum(paths.values(), [])):\n",
    "    print(f\"{var} = {os.environ.get(var)}\")\n",
    "\n",
    "# Example: Running a persistent subprocess with updated environment\n",
    "# (e.g., checking MPI compiler version)\n",
    "try:\n",
    "    result = subprocess.run(\n",
    "        [\"mpicc\", \"--version\"],\n",
    "        env=os.environ.copy(),\n",
    "        stdout=subprocess.PIPE,\n",
    "        stderr=subprocess.PIPE,\n",
    "        text=True,\n",
    "        check=True\n",
    "    )\n",
    "    print(result.stdout)\n",
    "except subprocess.CalledProcessError as e:\n",
    "    print(\"Error running mpicc:\", e.stderr)"
   ]
  },
  {
   "cell_type": "code",
   "execution_count": null,
   "id": "6d9e726d",
   "metadata": {},
   "outputs": [],
   "source": [
    "!source ~/tools/mpich_vars.sh\n",
    "!source ~/tools/zlib_vars.sh\n",
    "!source ~/tools/hdf5_vars.sh"
   ]
  },
  {
   "cell_type": "code",
   "execution_count": null,
   "id": "d4cf3f1e",
   "metadata": {},
   "outputs": [],
   "source": [
    "import sys\n",
    "sys.argv = [\"python_scripts/mpich_vars.py\", \"-p\", \"true\"]  # simulate command-line args"
   ]
  },
  {
   "cell_type": "code",
   "execution_count": null,
   "id": "8bc863ab",
   "metadata": {},
   "outputs": [],
   "source": [
    "!python3 python_scripts/mpich_vars.py -p true"
   ]
  },
  {
   "cell_type": "code",
   "execution_count": null,
   "id": "3ce75e50",
   "metadata": {},
   "outputs": [],
   "source": [
    "!python3 python_scripts/mpich_gen_vars.py -p true"
   ]
  },
  {
   "cell_type": "code",
   "execution_count": null,
   "id": "62aad49e",
   "metadata": {},
   "outputs": [],
   "source": [
    "%load_ext dotenv\n",
    "!bash -c \"source mpich_env.sh && env > .mpich_env\"\n",
    "%dotenv .mpich_env"
   ]
  },
  {
   "cell_type": "code",
   "execution_count": null,
   "id": "3da7acbe",
   "metadata": {},
   "outputs": [],
   "source": [
    "os.environ['_USE_ASCENT'] = 'True'"
   ]
  },
  {
   "cell_type": "code",
   "execution_count": null,
   "id": "a8569913",
   "metadata": {},
   "outputs": [],
   "source": [
    "del os.environ['_USE_ASCENT']"
   ]
  },
  {
   "cell_type": "code",
   "execution_count": null,
   "id": "32abe181",
   "metadata": {},
   "outputs": [],
   "source": [
    "!./examples/lammps/simple/lammps_mpi_ascent -in examples/lammps/simple/in.lj "
   ]
  },
  {
   "cell_type": "code",
   "execution_count": null,
   "id": "2fe36b82",
   "metadata": {},
   "outputs": [],
   "source": [
    "!/home/droaperdomo/lammps/examples/mpi/run.sh"
   ]
  },
  {
   "cell_type": "code",
   "execution_count": null,
   "id": "c15d796a",
   "metadata": {},
   "outputs": [],
   "source": [
    "append_env_from_files(\"/python_env/mpich_env\", \"ascent.env\", \"usd.env\")"
   ]
  },
  {
   "cell_type": "code",
   "execution_count": null,
   "id": "5a502072",
   "metadata": {},
   "outputs": [],
   "source": [
    "!echo $PATH |grep mpich"
   ]
  },
  {
   "cell_type": "code",
   "execution_count": null,
   "id": "0ca33ede",
   "metadata": {},
   "outputs": [],
   "source": [
    "!echo $LIBRARY_PATH"
   ]
  },
  {
   "cell_type": "code",
   "execution_count": null,
   "id": "5e719d5c",
   "metadata": {},
   "outputs": [],
   "source": [
    "!which mpiexec"
   ]
  }
 ],
 "metadata": {
  "language_info": {
   "name": "python"
  }
 },
 "nbformat": 4,
 "nbformat_minor": 5
}
