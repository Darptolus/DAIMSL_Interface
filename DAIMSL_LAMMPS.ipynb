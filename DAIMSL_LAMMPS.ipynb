{
 "cells": [
  {
   "cell_type": "markdown",
   "id": "e0ebee54",
   "metadata": {},
   "source": [
    "# Introduction\n",
    "This notebook demonstrates a bidirectional integration between the LAMMPS molecular dynamics engine and a real-time visualization pipeline based on ANARI, using Ascent for in situ data streaming. The goal is to enable interactive exploration and control of scientific simulations by coupling numerical state with a rendering backend. The pipeline supports real-time feedback, allowing users to inspect and manipulate simulation parameters during runtime."
   ]
  },
  {
   "cell_type": "markdown",
   "id": "8016cf65",
   "metadata": {},
   "source": [
    "## Set Environment"
   ]
  },
  {
   "cell_type": "code",
   "execution_count": 1,
   "id": "d469a8e2",
   "metadata": {},
   "outputs": [],
   "source": [
    "import os\n",
    "import copy\n",
    "\n",
    "# Store a deep copy of the original environment\n",
    "original_env = copy.deepcopy(os.environ)\n"
   ]
  },
  {
   "cell_type": "code",
   "execution_count": 19,
   "id": "ae46db9a",
   "metadata": {},
   "outputs": [],
   "source": [
    "# Reset os.environ to its original state\n",
    "os.environ.clear()\n",
    "os.environ.update(original_env)"
   ]
  },
  {
   "cell_type": "code",
   "execution_count": 7,
   "id": "499d5bc1",
   "metadata": {},
   "outputs": [],
   "source": [
    "from dotenv import dotenv_values\n",
    "import os\n",
    "\n",
    "def append_env_from_files(*env_files):\n",
    "    \"\"\"\n",
    "    Load and append environment variables from one or more .env files.\n",
    "    If a variable already exists, prepend the new value unless it's already included.\n",
    "    \"\"\"\n",
    "    for file in env_files:\n",
    "        env_vars = dotenv_values(file)\n",
    "        for key, new_val in env_vars.items():\n",
    "            current_val = os.environ.get(key, \"\")\n",
    "            if current_val:\n",
    "                if new_val not in current_val.split(\":\"):\n",
    "                    os.environ[key] = f\"{new_val}:{current_val}\"\n",
    "            else:\n",
    "                os.environ[key] = new_val"
   ]
  },
  {
   "cell_type": "markdown",
   "id": "e8138aa8",
   "metadata": {},
   "source": [
    "# LAMMPS\n",
    "LAMMPS (Large-scale Atomic/Molecular Massively Parallel Simulator) is a classical molecular dynamics code developed for parallel simulations of particles interacting under various force fields. It supports a wide range of models for solid-state materials, soft matter, and coarse-grained systems, and can be extended via user-defined fixes and external control interfaces."
   ]
  },
  {
   "cell_type": "markdown",
   "id": "a894f5e8",
   "metadata": {},
   "source": [
    "## Load Variables"
   ]
  },
  {
   "cell_type": "code",
   "execution_count": 21,
   "id": "52c0b516",
   "metadata": {},
   "outputs": [],
   "source": [
    "append_env_from_files(\"python_vars/mpich_vars\")\n",
    "append_env_from_files(\"python_vars/zlib_vars\")\n",
    "append_env_from_files(\"python_vars/hdf5_vars\")\n",
    "append_env_from_files(\"python_vars/lammps_vars\")"
   ]
  },
  {
   "cell_type": "markdown",
   "id": "5622862a",
   "metadata": {},
   "source": [
    "## Compile and Run"
   ]
  },
  {
   "cell_type": "code",
   "execution_count": 43,
   "id": "d00f4f1c",
   "metadata": {},
   "outputs": [],
   "source": [
    "!examples/lammps/simple/build_lammps.sh"
   ]
  },
  {
   "cell_type": "code",
   "execution_count": 53,
   "id": "24746287",
   "metadata": {},
   "outputs": [],
   "source": [
    "!examples/lammps/simple/run.sh &> /dev/null"
   ]
  },
  {
   "cell_type": "markdown",
   "id": "85e27507",
   "metadata": {},
   "source": [
    "## Visualize LAMMPS Output"
   ]
  },
  {
   "cell_type": "code",
   "execution_count": 51,
   "id": "c9ad9c9e",
   "metadata": {},
   "outputs": [],
   "source": [
    "!ffmpeg -y -i lammps_box.mpg -c:v libx264 lammps_box.mp4 &> /dev/null\n"
   ]
  },
  {
   "cell_type": "code",
   "execution_count": null,
   "id": "3f792370",
   "metadata": {},
   "outputs": [
    {
     "data": {
      "text/html": [
       "<video src=\"lammps_box.mp4\" controls  >\n",
       "      Your browser does not support the <code>video</code> element.\n",
       "    </video>"
      ],
      "text/plain": [
       "<IPython.core.display.Video object>"
      ]
     },
     "execution_count": 52,
     "metadata": {},
     "output_type": "execute_result"
    }
   ],
   "source": [
    "from IPython.display import Video\n",
    "Video(\"lammps_box.mp4\")"
   ]
  },
  {
   "cell_type": "markdown",
   "id": "1af8ed22",
   "metadata": {},
   "source": [
    "# Ascent\n",
    "Ascent is an in situ visualization and analysis library designed for high-performance computing workloads. It uses the Conduit data model to receive simulation state and supports multiple rendering backends through a high-level action interface. \n",
    "\n",
    "Ascent is used in this workflow to extract, convert, and transmit LAMMPS simulation data to downstream visualization components without disrupting the simulation loop."
   ]
  },
  {
   "cell_type": "markdown",
   "id": "0fc1d2fd",
   "metadata": {},
   "source": [
    "## Load Variables"
   ]
  },
  {
   "cell_type": "code",
   "execution_count": 61,
   "id": "ff009dd5",
   "metadata": {},
   "outputs": [],
   "source": [
    "append_env_from_files(\"python_vars/ascent_anari_vars\")\n",
    "append_env_from_files(\"python_vars/conduit_vars\")"
   ]
  },
  {
   "cell_type": "code",
   "execution_count": 62,
   "id": "9e4e6d32",
   "metadata": {},
   "outputs": [
    {
     "name": "stdout",
     "output_type": "stream",
     "text": [
      "/home/droaperdomo/ascent_anari/obj_bin/install/conduit-v0.9.4/lib:/home/droaperdomo/ascent_anari/obj_bin/install/conduit-v0.9.4/lib64:/home/droaperdomo/ascent_anari/obj_bin/install/ascent-checkout/lib:/home/droaperdomo/ascent_anari/obj_bin/install/ascent-checkout/lib64:/home/droaperdomo/ascent_anari/obj_bin/install/conduit-v0.9.4/lib:/home/droaperdomo/ascent_anari/obj_bin/install/conduit-v0.9.4/lib64:/home/droaperdomo/ascent_anari/obj_bin/install/ascent-checkout/lib:/home/droaperdomo/ascent_anari/obj_bin/install/ascent-checkout/lib64:/home/droaperdomo/lammps/obj_bin/lib:/home/droaperdomo/lammps/obj_bin/lib64:/home/droaperdomo/tools/hdf5_bin/lib:/home/droaperdomo/tools/hdf5_bin/lib64:/home/droaperdomo/tools/zlib_bin/lib:/home/droaperdomo/tools/zlib_bin/lib64:/home/droaperdomo/tools/mpich/lib:/home/droaperdomo/tools/mpich/lib64\n"
     ]
    }
   ],
   "source": [
    "!echo $LIBRARY_PATH"
   ]
  },
  {
   "cell_type": "code",
   "execution_count": 64,
   "id": "8ab0e3b6",
   "metadata": {},
   "outputs": [
    {
     "name": "stdout",
     "output_type": "stream",
     "text": [
      "/usr/bin/ld: /tmp/ccHCSAwS.o: in function `lammps_atoms_to_conduit_mesh(LAMMPS_NS::LAMMPS*, conduit::Node&)':\n",
      "lammps_mpi_ascent.cpp:(.text+0x55c): undefined reference to `conduit::Node::operator[](std::__cxx11::basic_string<char, std::char_traits<char>, std::allocator<char> > const&)'\n",
      "/usr/bin/ld: lammps_mpi_ascent.cpp:(.text+0x571): undefined reference to `conduit::Node::operator=(char const*)'\n",
      "/usr/bin/ld: lammps_mpi_ascent.cpp:(.text+0x5d0): undefined reference to `conduit::Node::operator[](std::__cxx11::basic_string<char, std::char_traits<char>, std::allocator<char> > const&)'\n",
      "/usr/bin/ld: lammps_mpi_ascent.cpp:(.text+0x602): undefined reference to `conduit::Node::set_external(float*, long, long, long, long, long)'\n",
      "/usr/bin/ld: lammps_mpi_ascent.cpp:(.text+0x662): undefined reference to `conduit::Node::operator[](std::__cxx11::basic_string<char, std::char_traits<char>, std::allocator<char> > const&)'\n",
      "/usr/bin/ld: lammps_mpi_ascent.cpp:(.text+0x694): undefined reference to `conduit::Node::set_external(float*, long, long, long, long, long)'\n",
      "/usr/bin/ld: lammps_mpi_ascent.cpp:(.text+0x6f4): undefined reference to `conduit::Node::operator[](std::__cxx11::basic_string<char, std::char_traits<char>, std::allocator<char> > const&)'\n",
      "/usr/bin/ld: lammps_mpi_ascent.cpp:(.text+0x726): undefined reference to `conduit::Node::set_external(float*, long, long, long, long, long)'\n",
      "/usr/bin/ld: lammps_mpi_ascent.cpp:(.text+0x786): undefined reference to `conduit::Node::operator[](std::__cxx11::basic_string<char, std::char_traits<char>, std::allocator<char> > const&)'\n",
      "/usr/bin/ld: lammps_mpi_ascent.cpp:(.text+0x79b): undefined reference to `conduit::Node::operator=(char const*)'\n",
      "/usr/bin/ld: lammps_mpi_ascent.cpp:(.text+0x7f7): undefined reference to `conduit::Node::operator[](std::__cxx11::basic_string<char, std::char_traits<char>, std::allocator<char> > const&)'\n",
      "/usr/bin/ld: lammps_mpi_ascent.cpp:(.text+0x80c): undefined reference to `conduit::Node::operator=(char const*)'\n",
      "/usr/bin/ld: lammps_mpi_ascent.cpp:(.text+0x868): undefined reference to `conduit::Node::operator[](std::__cxx11::basic_string<char, std::char_traits<char>, std::allocator<char> > const&)'\n",
      "/usr/bin/ld: lammps_mpi_ascent.cpp:(.text+0x87d): undefined reference to `conduit::Node::operator=(char const*)'\n",
      "/usr/bin/ld: lammps_mpi_ascent.cpp:(.text+0x8d9): undefined reference to `conduit::Node::operator[](std::__cxx11::basic_string<char, std::char_traits<char>, std::allocator<char> > const&)'\n",
      "/usr/bin/ld: lammps_mpi_ascent.cpp:(.text+0x8ee): undefined reference to `conduit::Node::operator=(char const*)'\n",
      "/usr/bin/ld: lammps_mpi_ascent.cpp:(.text+0x94a): undefined reference to `conduit::Node::operator[](std::__cxx11::basic_string<char, std::char_traits<char>, std::allocator<char> > const&)'\n",
      "/usr/bin/ld: lammps_mpi_ascent.cpp:(.text+0x97c): undefined reference to `conduit::Node::set_external(float*, long, long, long, long, long)'\n",
      "/usr/bin/ld: lammps_mpi_ascent.cpp:(.text+0x9ee): undefined reference to `conduit::Node::operator[](std::__cxx11::basic_string<char, std::char_traits<char>, std::allocator<char> > const&)'\n",
      "/usr/bin/ld: lammps_mpi_ascent.cpp:(.text+0x9f9): undefined reference to `conduit::Node::operator=(long)'\n",
      "/usr/bin/ld: /tmp/ccHCSAwS.o: in function `main':\n",
      "lammps_mpi_ascent.cpp:(.text+0xd7f): undefined reference to `conduit::Node::Node()'\n",
      "/usr/bin/ld: lammps_mpi_ascent.cpp:(.text+0xd8e): undefined reference to `ascent::about(conduit::Node&)'\n",
      "/usr/bin/ld: lammps_mpi_ascent.cpp:(.text+0xe78): undefined reference to `conduit::Node::to_yaml(std::__cxx11::basic_string<char, std::char_traits<char>, std::allocator<char> > const&, long, long, std::__cxx11::basic_string<char, std::char_traits<char>, std::allocator<char> > const&, std::__cxx11::basic_string<char, std::char_traits<char>, std::allocator<char> > const&) const'\n",
      "/usr/bin/ld: lammps_mpi_ascent.cpp:(.text+0xfdf): undefined reference to `conduit::Node::Node()'\n",
      "/usr/bin/ld: lammps_mpi_ascent.cpp:(.text+0x1007): undefined reference to `ascent::Ascent::Ascent()'\n",
      "/usr/bin/ld: lammps_mpi_ascent.cpp:(.text+0x1016): undefined reference to `ascent::Ascent::open()'\n",
      "/usr/bin/ld: lammps_mpi_ascent.cpp:(.text+0x102f): undefined reference to `ascent::Ascent::publish(conduit::Node const&)'\n",
      "/usr/bin/ld: lammps_mpi_ascent.cpp:(.text+0x103e): undefined reference to `conduit::Node::Node()'\n",
      "/usr/bin/ld: lammps_mpi_ascent.cpp:(.text+0x104d): undefined reference to `conduit::Node::append()'\n",
      "/usr/bin/ld: lammps_mpi_ascent.cpp:(.text+0x109d): undefined reference to `conduit::Node::operator[](std::__cxx11::basic_string<char, std::char_traits<char>, std::allocator<char> > const&)'\n",
      "/usr/bin/ld: lammps_mpi_ascent.cpp:(.text+0x10b2): undefined reference to `conduit::Node::operator=(char const*)'\n",
      "/usr/bin/ld: lammps_mpi_ascent.cpp:(.text+0x111a): undefined reference to `conduit::Node::operator[](std::__cxx11::basic_string<char, std::char_traits<char>, std::allocator<char> > const&)'\n",
      "/usr/bin/ld: lammps_mpi_ascent.cpp:(.text+0x1189): undefined reference to `conduit::Node::operator[](std::__cxx11::basic_string<char, std::char_traits<char>, std::allocator<char> > const&)'\n",
      "/usr/bin/ld: lammps_mpi_ascent.cpp:(.text+0x119e): undefined reference to `conduit::Node::operator=(char const*)'\n",
      "/usr/bin/ld: lammps_mpi_ascent.cpp:(.text+0x1206): undefined reference to `conduit::Node::operator[](std::__cxx11::basic_string<char, std::char_traits<char>, std::allocator<char> > const&)'\n",
      "/usr/bin/ld: lammps_mpi_ascent.cpp:(.text+0x121b): undefined reference to `conduit::Node::operator=(char const*)'\n",
      "/usr/bin/ld: lammps_mpi_ascent.cpp:(.text+0x1283): undefined reference to `conduit::Node::operator[](std::__cxx11::basic_string<char, std::char_traits<char>, std::allocator<char> > const&)'\n",
      "/usr/bin/ld: lammps_mpi_ascent.cpp:(.text+0x1298): undefined reference to `conduit::Node::operator=(char const*)'\n",
      "/usr/bin/ld: lammps_mpi_ascent.cpp:(.text+0x1300): undefined reference to `conduit::Node::operator[](std::__cxx11::basic_string<char, std::char_traits<char>, std::allocator<char> > const&)'\n",
      "/usr/bin/ld: lammps_mpi_ascent.cpp:(.text+0x1315): undefined reference to `conduit::Node::operator=(char const*)'\n",
      "/usr/bin/ld: lammps_mpi_ascent.cpp:(.text+0x137d): undefined reference to `conduit::Node::operator[](std::__cxx11::basic_string<char, std::char_traits<char>, std::allocator<char> > const&)'\n",
      "/usr/bin/ld: lammps_mpi_ascent.cpp:(.text+0x1392): undefined reference to `conduit::Node::operator=(char const*)'\n",
      "/usr/bin/ld: lammps_mpi_ascent.cpp:(.text+0x149b): undefined reference to `conduit::Node::to_yaml(std::__cxx11::basic_string<char, std::char_traits<char>, std::allocator<char> > const&, long, long, std::__cxx11::basic_string<char, std::char_traits<char>, std::allocator<char> > const&, std::__cxx11::basic_string<char, std::char_traits<char>, std::allocator<char> > const&) const'\n",
      "/usr/bin/ld: lammps_mpi_ascent.cpp:(.text+0x1548): undefined reference to `ascent::Ascent::execute(conduit::Node const&)'\n",
      "/usr/bin/ld: lammps_mpi_ascent.cpp:(.text+0x1557): undefined reference to `ascent::Ascent::close()'\n",
      "/usr/bin/ld: lammps_mpi_ascent.cpp:(.text+0x1566): undefined reference to `conduit::Node::~Node()'\n",
      "/usr/bin/ld: lammps_mpi_ascent.cpp:(.text+0x1575): undefined reference to `ascent::Ascent::~Ascent()'\n",
      "/usr/bin/ld: lammps_mpi_ascent.cpp:(.text+0x1584): undefined reference to `conduit::Node::~Node()'\n",
      "/usr/bin/ld: lammps_mpi_ascent.cpp:(.text+0x15d2): undefined reference to `conduit::Node::~Node()'\n",
      "/usr/bin/ld: lammps_mpi_ascent.cpp:(.text+0x18f8): undefined reference to `conduit::Node::~Node()'\n",
      "/usr/bin/ld: lammps_mpi_ascent.cpp:(.text+0x1910): undefined reference to `ascent::Ascent::~Ascent()'\n",
      "/usr/bin/ld: lammps_mpi_ascent.cpp:(.text+0x1928): undefined reference to `conduit::Node::~Node()'\n",
      "/usr/bin/ld: lammps_mpi_ascent.cpp:(.text+0x1959): undefined reference to `conduit::Node::~Node()'\n",
      "/usr/bin/ld: /tmp/ccHCSAwS.o: in function `__static_initialization_and_destruction_0()':\n",
      "lammps_mpi_ascent.cpp:(.text+0x19d7): undefined reference to `conduit::DataType::int32(long, long, long, long, long)'\n",
      "/usr/bin/ld: lammps_mpi_ascent.cpp:(.text+0x19f2): undefined reference to `conduit::DataType::~DataType()'\n",
      "/usr/bin/ld: lammps_mpi_ascent.cpp:(.text+0x1a24): undefined reference to `conduit::DataType::uint32(long, long, long, long, long)'\n",
      "/usr/bin/ld: lammps_mpi_ascent.cpp:(.text+0x1a3f): undefined reference to `conduit::DataType::~DataType()'\n",
      "/usr/bin/ld: lammps_mpi_ascent.cpp:(.text+0x1a71): undefined reference to `conduit::DataType::float32(long, long, long, long, long)'\n",
      "/usr/bin/ld: lammps_mpi_ascent.cpp:(.text+0x1a8c): undefined reference to `conduit::DataType::~DataType()'\n",
      "/usr/bin/ld: lammps_mpi_ascent.cpp:(.text+0x1ab3): undefined reference to `conduit::DataType::DataType(conduit::DataType const&)'\n",
      "/usr/bin/ld: lammps_mpi_ascent.cpp:(.text+0x1acd): undefined reference to `conduit::DataType::DataType(conduit::DataType const&)'\n",
      "/usr/bin/ld: lammps_mpi_ascent.cpp:(.text+0x1b65): undefined reference to `conduit::DataType::~DataType()'\n",
      "/usr/bin/ld: lammps_mpi_ascent.cpp:(.text+0x1ba9): undefined reference to `conduit::DataType::DataType(conduit::DataType const&)'\n",
      "/usr/bin/ld: lammps_mpi_ascent.cpp:(.text+0x1bc3): undefined reference to `conduit::DataType::DataType(conduit::DataType const&)'\n",
      "/usr/bin/ld: lammps_mpi_ascent.cpp:(.text+0x1bdd): undefined reference to `conduit::DataType::DataType(conduit::DataType const&)'\n",
      "/usr/bin/ld: lammps_mpi_ascent.cpp:(.text+0x1c78): undefined reference to `conduit::DataType::~DataType()'\n",
      "/usr/bin/ld: lammps_mpi_ascent.cpp:(.text+0x1ccd): undefined reference to `conduit::DataType::int32(long, long, long, long, long)'\n",
      "/usr/bin/ld: lammps_mpi_ascent.cpp:(.text+0x1cf8): undefined reference to `conduit::DataType::int64(long, long, long, long, long)'\n",
      "/usr/bin/ld: lammps_mpi_ascent.cpp:(.text+0x1d90): undefined reference to `conduit::DataType::~DataType()'\n",
      "/usr/bin/ld: lammps_mpi_ascent.cpp:(.text+0x1de5): undefined reference to `conduit::DataType::float32(long, long, long, long, long)'\n",
      "/usr/bin/ld: lammps_mpi_ascent.cpp:(.text+0x1e10): undefined reference to `conduit::DataType::float64(long, long, long, long, long)'\n",
      "/usr/bin/ld: lammps_mpi_ascent.cpp:(.text+0x1ea8): undefined reference to `conduit::DataType::~DataType()'\n",
      "/usr/bin/ld: lammps_mpi_ascent.cpp:(.text+0x2e67): undefined reference to `conduit::DataType::~DataType()'\n",
      "/usr/bin/ld: lammps_mpi_ascent.cpp:(.text+0x2ea3): undefined reference to `conduit::DataType::~DataType()'\n",
      "/usr/bin/ld: lammps_mpi_ascent.cpp:(.text+0x2f04): undefined reference to `conduit::DataType::~DataType()'\n",
      "/usr/bin/ld: lammps_mpi_ascent.cpp:(.text+0x2f40): undefined reference to `conduit::DataType::~DataType()'\n",
      "/usr/bin/ld: /tmp/ccHCSAwS.o:lammps_mpi_ascent.cpp:(.text+0x2f9e): more undefined references to `conduit::DataType::~DataType()' follow\n",
      "/usr/bin/ld: /tmp/ccHCSAwS.o: in function `void std::_Construct<conduit::DataType, conduit::DataType const&>(conduit::DataType*, conduit::DataType const&)':\n",
      "lammps_mpi_ascent.cpp:(.text._ZSt10_ConstructIN7conduit8DataTypeEJRKS1_EEvPT_DpOT0_[_ZSt10_ConstructIN7conduit8DataTypeEJRKS1_EEvPT_DpOT0_]+0x48): undefined reference to `conduit::DataType::DataType(conduit::DataType const&)'\n",
      "/usr/bin/ld: /tmp/ccHCSAwS.o: in function `void std::_Destroy<conduit::DataType>(conduit::DataType*)':\n",
      "lammps_mpi_ascent.cpp:(.text._ZSt8_DestroyIN7conduit8DataTypeEEvPT_[_ZSt8_DestroyIN7conduit8DataTypeEEvPT_]+0x18): undefined reference to `conduit::DataType::~DataType()'\n",
      "collect2: error: ld returned 1 exit status\n"
     ]
    }
   ],
   "source": [
    "!examples/lammps/simple/build_lammps_ascent.sh"
   ]
  },
  {
   "cell_type": "markdown",
   "id": "2dc5d8ed",
   "metadata": {},
   "source": [
    "# ANARI\n",
    "ANARI (Analytic Rendering Interface) is a rendering API that provide type-safe wrappers that abstracts scene description and rendering tasks across heterogeneous devices. It enables portable rendering by decoupling application logic from graphics backends and supports in-memory hierarchical object trees to describe full frame content, including surface geometry and volumetric data.\n",
    "\n",
    "ANARI provides semantics for rendering engines to implement extensions, support asynchronous scene updates, and access zero-copy memory, facilitating interactive and low-latency visualization. In this integration, ANARI is used to render particle and field data exported from LAMMPS via Ascent."
   ]
  },
  {
   "cell_type": "code",
   "execution_count": null,
   "id": "00d30eab",
   "metadata": {},
   "outputs": [],
   "source": []
  },
  {
   "cell_type": "markdown",
   "id": "58401074",
   "metadata": {},
   "source": [
    "# ANARI-USD\n",
    "ANARI-USD is an implementation of an ANARI rendering device that outputs data in the USD (Universal Scene Description) format. It allows ANARI applications to render USD scene graphs directly or engage with rendering pipelines to visualize ANARI content using USD-compatible tools and frameworks, including NVIDIA’s Omniverse.\n",
    "\n",
    "This backend is used to stream LAMMPS state into a USD scene for rendering and visualization.\n"
   ]
  },
  {
   "cell_type": "code",
   "execution_count": null,
   "id": "fc37b321",
   "metadata": {},
   "outputs": [],
   "source": [
    "source ~/tools/mpich_vars.sh\n",
    "source ~/tools/onetbb_vars.sh\n",
    "source ~/tools/opensubdiv_vars.sh \n",
    "source ~/tools/glfw_vars.sh\n",
    "source ~/tools/openusd_vars.sh\n",
    "source ~/tools/anarisdk_vars.sh\n",
    "source ~/tools/openusd_vars.sh\n",
    "source ~/tools/connectsamples_vars.sh"
   ]
  },
  {
   "cell_type": "markdown",
   "id": "90928676",
   "metadata": {},
   "source": [
    "# Omniverse\n",
    "Omniverse is a multi-GPU, collaborative simulation and visualization platform built around USD. It provides infrastructure for real-time rendering, physics simulation, and interaction. In this workflow, Omniverse acts as the visualization environment that consumes the USD scene generated by ANARI-USD, allowing immersive inspection and interaction with the evolving simulation state."
   ]
  }
 ],
 "metadata": {
  "kernelspec": {
   "display_name": "venv",
   "language": "python",
   "name": "python3"
  },
  "language_info": {
   "codemirror_mode": {
    "name": "ipython",
    "version": 3
   },
   "file_extension": ".py",
   "mimetype": "text/x-python",
   "name": "python",
   "nbconvert_exporter": "python",
   "pygments_lexer": "ipython3",
   "version": "3.12.3"
  }
 },
 "nbformat": 4,
 "nbformat_minor": 5
}
