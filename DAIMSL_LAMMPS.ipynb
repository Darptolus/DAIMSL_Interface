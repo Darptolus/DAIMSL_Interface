{
 "cells": [
  {
   "cell_type": "markdown",
   "id": "e0ebee54",
   "metadata": {},
   "source": [
    "# Introduction\n",
    "This notebook demonstrates a bidirectional integration between the LAMMPS molecular dynamics engine and a real-time visualization pipeline based on ANARI, using Ascent for in situ data streaming. The goal is to enable interactive exploration and control of scientific simulations by coupling numerical state with a rendering backend. The pipeline supports real-time feedback, allowing users to inspect and manipulate simulation parameters during runtime."
   ]
  },
  {
   "cell_type": "markdown",
   "id": "92c8cd9e",
   "metadata": {},
   "source": [
    "![DAIMSL Project](media/DAIMSL_4.png)"
   ]
  },
  {
   "cell_type": "markdown",
   "id": "b256b9af",
   "metadata": {},
   "source": [
    "![HPC Integration](media/DAIMSL_interface_0.png)"
   ]
  },
  {
   "cell_type": "markdown",
   "id": "8016cf65",
   "metadata": {},
   "source": [
    "## Set Environment"
   ]
  },
  {
   "cell_type": "code",
   "execution_count": 10,
   "id": "d469a8e2",
   "metadata": {},
   "outputs": [],
   "source": [
    "import os\n",
    "import copy\n",
    "\n",
    "# Store a deep copy of the original environment\n",
    "original_env = copy.deepcopy(os.environ)\n"
   ]
  },
  {
   "cell_type": "code",
   "execution_count": 30,
   "id": "ae46db9a",
   "metadata": {},
   "outputs": [],
   "source": [
    "# Reset os.environ to its original state\n",
    "os.environ.clear()\n",
    "os.environ.update(original_env)"
   ]
  },
  {
   "cell_type": "code",
   "execution_count": 11,
   "id": "499d5bc1",
   "metadata": {},
   "outputs": [],
   "source": [
    "from dotenv import dotenv_values\n",
    "import os\n",
    "\n",
    "def append_env_from_files(*env_files):\n",
    "    \"\"\"\n",
    "    Load and append environment variables from one or more .env files.\n",
    "    If a variable already exists, prepend the new value unless it's already included.\n",
    "    \"\"\"\n",
    "    for file in env_files:\n",
    "        env_vars = dotenv_values(file)\n",
    "        for key, new_val in env_vars.items():\n",
    "            current_val = os.environ.get(key, \"\")\n",
    "            if current_val:\n",
    "                if new_val not in current_val.split(\":\"):\n",
    "                    os.environ[key] = f\"{new_val}:{current_val}\"\n",
    "            else:\n",
    "                os.environ[key] = new_val"
   ]
  },
  {
   "cell_type": "markdown",
   "id": "e8138aa8",
   "metadata": {},
   "source": [
    "# LAMMPS\n",
    "LAMMPS (Large-scale Atomic/Molecular Massively Parallel Simulator) is a classical molecular dynamics code developed for parallel simulations of particles interacting under various force fields. It supports a wide range of models for solid-state materials, soft matter, and coarse-grained systems, and can be extended via user-defined fixes and external control interfaces."
   ]
  },
  {
   "cell_type": "markdown",
   "id": "a894f5e8",
   "metadata": {},
   "source": [
    "## Load Variables"
   ]
  },
  {
   "cell_type": "code",
   "execution_count": 12,
   "id": "52c0b516",
   "metadata": {},
   "outputs": [],
   "source": [
    "append_env_from_files(\"python_vars/mpich_vars\")\n",
    "append_env_from_files(\"python_vars/zlib_vars\")\n",
    "append_env_from_files(\"python_vars/hdf5_vars\")\n",
    "append_env_from_files(\"python_vars/lammps_vars\")"
   ]
  },
  {
   "cell_type": "markdown",
   "id": "418a731d",
   "metadata": {},
   "source": [
    "## Example: Cube"
   ]
  },
  {
   "cell_type": "code",
   "execution_count": null,
   "id": "e67af380",
   "metadata": {
    "vscode": {
     "languageId": "ruby"
    }
   },
   "outputs": [],
   "source": [
    "using namespace LAMMPS_NS;\n",
    "\n",
    "int main(int argc, char **argv)\n",
    "{\n",
    "  MPI_Init(&argc, &argv);  \n",
    "  \n",
    "  // Create LAMMPS instance\n",
    "  LAMMPS *lmp = new LAMMPS(argc, argv, MPI_COMM_WORLD);\n",
    "\n",
    "  // Run input script (e.g., in.lj)\n",
    "  lmp->input->file();\n",
    "\n",
    "  // Dump mpg\n",
    "  lmp->input->one(\"dump mv all movie 1 lammps_box.mpg type type\");\n",
    "  lmp->input->one(\"dump_modify mv pad 4\");\n",
    "\n",
    "  for(int i=0; i<20; ++i) {\n",
    "    lmp->input->one(\"run 10 post no\");\n",
    "  }\n",
    "  \n",
    "  // Cleanup\n",
    "  delete lmp;\n",
    "\n",
    "  MPI_Finalize(); \n",
    "  return 0;\n",
    "}"
   ]
  },
  {
   "cell_type": "markdown",
   "id": "5622862a",
   "metadata": {},
   "source": [
    "## Compile and Run"
   ]
  },
  {
   "cell_type": "code",
   "execution_count": 13,
   "id": "d00f4f1c",
   "metadata": {},
   "outputs": [],
   "source": [
    "!examples/lammps/cube/build_lammps.sh"
   ]
  },
  {
   "cell_type": "code",
   "execution_count": 14,
   "id": "24746287",
   "metadata": {},
   "outputs": [],
   "source": [
    "!examples/lammps/cube/run.sh &> /dev/null"
   ]
  },
  {
   "cell_type": "markdown",
   "id": "85e27507",
   "metadata": {},
   "source": [
    "## Visualize LAMMPS Output"
   ]
  },
  {
   "cell_type": "code",
   "execution_count": 6,
   "id": "c9ad9c9e",
   "metadata": {},
   "outputs": [],
   "source": [
    "!ffmpeg -y -i lammps_box.mpg -c:v libx264 lammps_box.mp4 &> /dev/null"
   ]
  },
  {
   "cell_type": "code",
   "execution_count": 17,
   "id": "3f792370",
   "metadata": {},
   "outputs": [
    {
     "data": {
      "text/html": [
       "<video src=\"media/lammps_box.mp4\" controls  >\n",
       "      Your browser does not support the <code>video</code> element.\n",
       "    </video>"
      ],
      "text/plain": [
       "<IPython.core.display.Video object>"
      ]
     },
     "execution_count": 17,
     "metadata": {},
     "output_type": "execute_result"
    }
   ],
   "source": [
    "from IPython.display import Video\n",
    "Video(\"media/lammps_box.mp4\")"
   ]
  },
  {
   "cell_type": "markdown",
   "id": "1af8ed22",
   "metadata": {},
   "source": [
    "# Ascent\n",
    "Ascent is an in situ visualization and analysis library designed for high-performance computing workloads. It uses the Conduit data model to receive simulation state and supports multiple rendering backends through a high-level action interface. \n",
    "\n",
    "Ascent is used in this workflow to extract, convert, and transmit LAMMPS simulation data to downstream visualization components without disrupting the simulation loop."
   ]
  },
  {
   "cell_type": "markdown",
   "id": "319bc51b",
   "metadata": {},
   "source": [
    "## Load Variables"
   ]
  },
  {
   "cell_type": "code",
   "execution_count": 7,
   "id": "ff009dd5",
   "metadata": {},
   "outputs": [],
   "source": [
    "append_env_from_files(\"python_vars/ascent_vars\")\n",
    "append_env_from_files(\"python_vars/conduit_vars\")"
   ]
  },
  {
   "cell_type": "markdown",
   "id": "0caf9c13",
   "metadata": {},
   "source": [
    "## Example: Cube"
   ]
  },
  {
   "cell_type": "code",
   "execution_count": null,
   "id": "a2d2c945",
   "metadata": {
    "vscode": {
     "languageId": "ruby"
    }
   },
   "outputs": [],
   "source": [
    "void lammps_atoms_to_conduit_mesh(LAMMPS *lmp, Node &mesh)\n",
    "{\n",
    "  Atom *atom = lmp->atom;\n",
    "  int nlocal = atom->nlocal;\n",
    "  double **x = atom->x;\n",
    "  double **v = atom->v;  // Velocity array\n",
    "\n",
    "  // Allocate temporary arrays\n",
    "  float *x_vals = new float[nlocal];\n",
    "  float *y_vals = new float[nlocal];\n",
    "  float *z_vals = new float[nlocal];\n",
    "\n",
    "  float *vx_vals = new float[nlocal];\n",
    "  float *vy_vals = new float[nlocal];\n",
    "  float *vz_vals = new float[nlocal];\n",
    "\n",
    "  for (int i = 0; i < nlocal; i++) {\n",
    "    // Position\n",
    "    x_vals[i] = static_cast<float>(x[i][0]);\n",
    "    y_vals[i] = static_cast<float>(x[i][1]);\n",
    "    z_vals[i] = static_cast<float>(x[i][2]);\n",
    "    // Velocity\n",
    "    vx_vals[i] = static_cast<float>(v[i][0]);\n",
    "    vy_vals[i] = static_cast<float>(v[i][1]);\n",
    "    vz_vals[i] = static_cast<float>(v[i][2]);\n",
    "  }\n",
    "\n",
    "  float *speed_vals = new float[nlocal];\n",
    "  for (int i = 0; i < nlocal; ++i) {\n",
    "      float vx = vx_vals[i];\n",
    "      float vy = vy_vals[i];\n",
    "      float vz = vz_vals[i];\n",
    "      speed_vals[i] = std::sqrt(vx * vx + vy * vy + vz * vz);\n",
    "  }\n",
    "  // Create explicit coordinate set\n",
    "  mesh[\"coordsets/coords/type\"] = \"explicit\";\n",
    "  mesh[\"coordsets/coords/values/x\"].set_external(x_vals, nlocal);\n",
    "  mesh[\"coordsets/coords/values/y\"].set_external(y_vals, nlocal);\n",
    "  mesh[\"coordsets/coords/values/z\"].set_external(z_vals, nlocal);\n",
    "\n",
    "  // Define topology (points)\n",
    "  mesh[\"topologies/topo/type\"] = \"points\";\n",
    "  mesh[\"topologies/topo/coordset\"] = \"coords\";\n",
    "\n",
    "  // Add velocity as a vector field\n",
    "  mesh[\"fields/velocity/association\"] = \"vertex\";\n",
    "  mesh[\"fields/velocity/topology\"] = \"topo\";\n",
    "  mesh[\"fields/velocity/values\"].set_external(speed_vals, nlocal);\n",
    "\n",
    "  // Add simulation time\n",
    "  mesh[\"state/time\"] = lmp->update->ntimestep;\n",
    "}"
   ]
  },
  {
   "cell_type": "code",
   "execution_count": null,
   "id": "da32c6b4",
   "metadata": {
    "vscode": {
     "languageId": "ruby"
    }
   },
   "outputs": [],
   "source": [
    "\n",
    "int main(int argc, char **argv)\n",
    "{\n",
    "  MPI_Init(&argc, &argv);\n",
    "\n",
    "  // Get Ascent about info\n",
    "  Node ascent_info;\n",
    "  ascent::about(ascent_info);\n",
    "  std::cout << \"Ascent Config:\\n\" << ascent_info.to_yaml() << std::endl;\n",
    "  \n",
    "  // Create LAMMPS instance\n",
    "  LAMMPS *lmp = new LAMMPS(argc, argv, MPI_COMM_WORLD);\n",
    "\n",
    "  // Run input script (e.g., in.lj)\n",
    "  lmp->input->file();\n",
    "\n",
    "  for(int i=0; i<20; ++i) {\n",
    "    lmp->input->one(\"run 10 post no\");\n",
    "    \n",
    "    // Convert atom data to Conduit mesh\n",
    "    Node mesh;\n",
    "    lammps_atoms_to_conduit_mesh(lmp, mesh);\n",
    "    \n",
    "    // Start Ascent and publish mesh\n",
    "    Ascent a;\n",
    "    //   Node ascent_opts;\n",
    "    // ascent_opts[\"mpi_comm\"] = MPI_Comm_c2f(MPI_COMM_WORLD);\n",
    "    // a.open(ascent_opts);\n",
    "    a.open();\n",
    "    a.publish(mesh);\n",
    "    \n",
    "    // Define actions\n",
    "    Node actions;\n",
    "    Node &add_act = actions.append();\n",
    "    add_act[\"action\"] = \"add_scenes\";\n",
    "    \n",
    "    Node &scenes = add_act[\"scenes\"];\n",
    "    scenes[\"s1/plots/p1/type\"] = \"pseudocolor\";\n",
    "    scenes[\"s1/plots/p1/field\"] = \"velocity\";\n",
    "    scenes[\"s1/image_prefix\"] = \"lammps_cube_\";\n",
    "    scenes[\"s1/image_number_format\"] = \"%04d\";\n",
    "    scenes[\"s1/image_dir\"] = \"output_images\";\n",
    "    \n",
    "    std::cout << \"Ascent Actions:\\n\" << actions.to_yaml() << std::endl;\n",
    "    \n",
    "    // Render\n",
    "    a.execute(actions);\n",
    "\n",
    "    a.close();\n",
    "  }\n",
    "  \n",
    "  // Cleanup\n",
    "  delete lmp;\n",
    "\n",
    "  MPI_Finalize(); \n",
    "  return 0;\n",
    "}"
   ]
  },
  {
   "cell_type": "code",
   "execution_count": 8,
   "id": "8ab0e3b6",
   "metadata": {},
   "outputs": [],
   "source": [
    "!examples/lammps/cube/build_lammps_ascent.sh"
   ]
  },
  {
   "cell_type": "code",
   "execution_count": 9,
   "id": "6bf57298",
   "metadata": {},
   "outputs": [],
   "source": [
    "!examples/lammps/cube/run.sh &> /dev/null"
   ]
  },
  {
   "cell_type": "markdown",
   "id": "18f607fb",
   "metadata": {},
   "source": [
    "![Cube Rendered using Ascent - PNGs](examples/lammps/cube/output_images/cube_render_000000.png)"
   ]
  },
  {
   "cell_type": "code",
   "execution_count": null,
   "id": "46a103ed",
   "metadata": {},
   "outputs": [],
   "source": [
    "!examples/lammps/cube/genmp4.sh"
   ]
  },
  {
   "cell_type": "code",
   "execution_count": 18,
   "id": "98962d84",
   "metadata": {},
   "outputs": [
    {
     "data": {
      "text/html": [
       "<video src=\"media/lammps_box_ascent.mp4\" controls  >\n",
       "      Your browser does not support the <code>video</code> element.\n",
       "    </video>"
      ],
      "text/plain": [
       "<IPython.core.display.Video object>"
      ]
     },
     "execution_count": 18,
     "metadata": {},
     "output_type": "execute_result"
    }
   ],
   "source": [
    "from IPython.display import Video\n",
    "Video(\"media/lammps_box_ascent.mp4\")"
   ]
  },
  {
   "cell_type": "markdown",
   "id": "2dc5d8ed",
   "metadata": {},
   "source": [
    "# ANARI\n",
    "ANARI (Analytic Rendering Interface) is a rendering API that provide type-safe wrappers that abstracts scene description and rendering tasks across heterogeneous devices. It enables portable rendering by decoupling application logic from graphics backends and supports in-memory hierarchical object trees to describe full frame content, including surface geometry and volumetric data.\n",
    "\n",
    "ANARI provides semantics for rendering engines to implement extensions, support asynchronous scene updates, and access zero-copy memory, facilitating interactive and low-latency visualization. In this integration, ANARI is used to render particle and field data exported from LAMMPS via Ascent."
   ]
  },
  {
   "cell_type": "markdown",
   "id": "0fc1d2fd",
   "metadata": {},
   "source": [
    "## Load Variables"
   ]
  },
  {
   "cell_type": "code",
   "execution_count": 76,
   "id": "9cdc1dad",
   "metadata": {},
   "outputs": [],
   "source": [
    "# Reset os.environ to its original state\n",
    "os.environ.clear()\n",
    "os.environ.update(original_env)"
   ]
  },
  {
   "cell_type": "code",
   "execution_count": 77,
   "id": "bbdea126",
   "metadata": {},
   "outputs": [
    {
     "name": "stdout",
     "output_type": "stream",
     "text": [
      "/home/droaperdomo/python_venv/venv/bin:/home/droaperdomo/.vscode-server/bin/c306e94f98122556ca081f527b466015e1bc37b0/bin/remote-cli:/home/droaperdomo/.local/bin:/usr/local/sbin:/usr/local/bin:/usr/sbin:/usr/bin:/sbin:/bin:/usr/games:/usr/local/games:/usr/lib/wsl/lib:/mnt/c/Python312/Scripts/:/mnt/c/Python312/:/mnt/c/Program Files/Oculus/Support/oculus-runtime:/mnt/c/Windows/system32:/mnt/c/Windows:/mnt/c/Windows/System32/Wbem:/mnt/c/Windows/System32/WindowsPowerShell/v1.0/:/mnt/c/Windows/System32/OpenSSH/:/mnt/c/Program Files (x86)/NVIDIA Corporation/PhysX/Common:/mnt/c/Program Files/dotnet/:/mnt/c/Program Files (x86)/dotnet/:/mnt/c/ProgramData/chocolatey/bin:/mnt/c/Program Files/nodejs/:/mnt/c/WINDOWS/system32:/mnt/c/WINDOWS:/mnt/c/WINDOWS/System32/Wbem:/mnt/c/WINDOWS/System32/WindowsPowerShell/v1.0/:/mnt/c/WINDOWS/System32/OpenSSH/:/mnt/c/Program Files/NVIDIA Corporation/NVIDIA App/NvDLISR:/mnt/c/Program Files (x86)/Windows Kits/10/Windows Performance Toolkit/:/mnt/c/Users/droaperdomo/LLNL/VisIt3.4.2:/mnt/c/Users/droaperdomo/AppData/Local/Microsoft/WindowsApps:/mnt/c/Users/droaperdomo/AppData/Local/Programs/Microsoft VS Code/bin:/snap/bin\n"
     ]
    }
   ],
   "source": [
    "!echo $PATH"
   ]
  },
  {
   "cell_type": "code",
   "execution_count": 78,
   "id": "d3f0e760",
   "metadata": {},
   "outputs": [],
   "source": [
    "append_env_from_files(\"python_vars/mpich_vars\")\n",
    "append_env_from_files(\"python_vars/zlib_vars\")\n",
    "append_env_from_files(\"python_vars/hdf5_vars\")\n",
    "append_env_from_files(\"python_vars/lammps_vars\")"
   ]
  },
  {
   "cell_type": "code",
   "execution_count": 79,
   "id": "4d9fcacb",
   "metadata": {},
   "outputs": [],
   "source": [
    "append_env_from_files(\"python_vars/ascent_anari_vars\")\n",
    "append_env_from_files(\"python_vars/conduit_anari_vars\")"
   ]
  },
  {
   "cell_type": "markdown",
   "id": "a8c1ff61",
   "metadata": {},
   "source": [
    "## Example: Cube"
   ]
  },
  {
   "cell_type": "code",
   "execution_count": null,
   "id": "00d30eab",
   "metadata": {
    "vscode": {
     "languageId": "ruby"
    }
   },
   "outputs": [],
   "source": [
    "void lammps_atoms_to_conduit_mesh(LAMMPS *lmp, Node &mesh)\n",
    "{\n",
    "  Atom *atom = lmp->atom;\n",
    "  int nlocal = atom->nlocal;\n",
    "  double **x = atom->x;\n",
    "  double **v = atom->v;  // Velocity array\n",
    "\n",
    "  // Allocate temporary arrays\n",
    "  float *x_vals = new float[nlocal];\n",
    "  float *y_vals = new float[nlocal];\n",
    "  float *z_vals = new float[nlocal];\n",
    "\n",
    "  float *vx_vals = new float[nlocal];\n",
    "  float *vy_vals = new float[nlocal];\n",
    "  float *vz_vals = new float[nlocal];\n",
    "\n",
    "  for (int i = 0; i < nlocal; i++) {\n",
    "    // Position\n",
    "    x_vals[i] = static_cast<float>(x[i][0]);\n",
    "    y_vals[i] = static_cast<float>(x[i][1]);\n",
    "    z_vals[i] = static_cast<float>(x[i][2]);\n",
    "    // Velocity\n",
    "    vx_vals[i] = static_cast<float>(v[i][0]);\n",
    "    vy_vals[i] = static_cast<float>(v[i][1]);\n",
    "    vz_vals[i] = static_cast<float>(v[i][2]);\n",
    "  }\n",
    "\n",
    "  float *speed_vals = new float[nlocal];\n",
    "  for (int i = 0; i < nlocal; ++i) {\n",
    "      float vx = vx_vals[i];\n",
    "      float vy = vy_vals[i];\n",
    "      float vz = vz_vals[i];\n",
    "      speed_vals[i] = std::sqrt(vx * vx + vy * vy + vz * vz);\n",
    "  }\n",
    "  // Create explicit coordinate set\n",
    "  mesh[\"coordsets/coords/type\"] = \"explicit\";\n",
    "  mesh[\"coordsets/coords/values/x\"].set_external(x_vals, nlocal);\n",
    "  mesh[\"coordsets/coords/values/y\"].set_external(y_vals, nlocal);\n",
    "  mesh[\"coordsets/coords/values/z\"].set_external(z_vals, nlocal);\n",
    "\n",
    "  // Define topology (points)\n",
    "  mesh[\"topologies/topo/type\"] = \"points\";\n",
    "  mesh[\"topologies/topo/coordset\"] = \"coords\";\n",
    "\n",
    "  // Add velocity as a vector field\n",
    "  mesh[\"fields/velocity/association\"] = \"vertex\";\n",
    "  mesh[\"fields/velocity/topology\"] = \"topo\";\n",
    "  mesh[\"fields/velocity/values\"].set_external(speed_vals, nlocal);\n",
    "\n",
    "  // Add simulation time\n",
    "  mesh[\"state/time\"] = lmp->update->ntimestep;\n",
    "}"
   ]
  },
  {
   "cell_type": "code",
   "execution_count": null,
   "id": "cac9ed40",
   "metadata": {
    "vscode": {
     "languageId": "ruby"
    }
   },
   "outputs": [],
   "source": [
    "int main(int argc, char **argv)\n",
    "{\n",
    "  MPI_Init(&argc, &argv);\n",
    "\n",
    "  // Get Ascent about info\n",
    "  Node ascent_info;\n",
    "  ascent::about(ascent_info);\n",
    "  std::cout << \"Ascent Config:\\n\" << ascent_info.to_yaml() << std::endl;\n",
    "  \n",
    "  // Create LAMMPS instance\n",
    "  LAMMPS *lmp = new LAMMPS(argc, argv, MPI_COMM_WORLD);\n",
    "\n",
    "  // Run input script (e.g., in.lj)\n",
    "  lmp->input->file();\n",
    "\n",
    "  for(int i=0; i<2; ++i) {\n",
    "    lmp->input->one(\"run 10 post no\");\n",
    "    \n",
    "    // Convert atom data to Conduit mesh\n",
    "    Node mesh;\n",
    "    lammps_atoms_to_conduit_mesh(lmp, mesh);\n",
    "    \n",
    "    // Start Ascent and publish mesh\n",
    "    Ascent a;\n",
    "    a.open();\n",
    "    a.publish(mesh);\n",
    "    \n",
    "    // Define actions\n",
    "    Node actions;\n",
    "    Node &add_act = actions.append();\n",
    "    \n",
    "    std::cout << \"Ascent Actions:\\n\" << actions.to_yaml() << std::endl;\n",
    "    \n",
    "    // Render\n",
    "    a.execute(actions);\n",
    "\n",
    "    a.close();\n",
    "  }\n",
    "  \n",
    "  // Cleanup\n",
    "  delete lmp;\n",
    "\n",
    "  MPI_Finalize(); \n",
    "  return 0;\n",
    "}"
   ]
  },
  {
   "cell_type": "code",
   "execution_count": null,
   "id": "036167ee",
   "metadata": {
    "vscode": {
     "languageId": "ruby"
    }
   },
   "outputs": [],
   "source": [
    "- action: add_scenes\n",
    "  scenes:\n",
    "    scene1:\n",
    "      plots:\n",
    "        plot1:\n",
    "          type: pseudocolor\n",
    "          field: velocity\n",
    "          points:  \n",
    "            radius: 0.3  # Increased particle radius\n",
    "      renders:\n",
    "        r1:\n",
    "          image_prefix: \"cube_render\"\n",
    "          camera:\n",
    "            look_at: [0.0, 0.0, 0.0]\n",
    "            position: [25.0, 25.0, 25.0]\n",
    "          image_width: 1024\n",
    "          image_height: 768"
   ]
  },
  {
   "cell_type": "markdown",
   "id": "47c11e47",
   "metadata": {},
   "source": [
    "![Cube Rendered using Anari](examples/lammps/cube/output_images/anari_render_000000.png)"
   ]
  },
  {
   "cell_type": "code",
   "execution_count": 80,
   "id": "280504d5",
   "metadata": {},
   "outputs": [],
   "source": [
    "!examples/lammps/cube/build_lammps_ascent_anari.sh"
   ]
  },
  {
   "cell_type": "code",
   "execution_count": null,
   "id": "8ff8141b",
   "metadata": {},
   "outputs": [],
   "source": [
    "!examples/lammps/cube/run_ascent_anari.sh"
   ]
  },
  {
   "cell_type": "code",
   "execution_count": null,
   "id": "0541d40c",
   "metadata": {},
   "outputs": [],
   "source": [
    "!examples/lammps/cube/genmp4.sh"
   ]
  },
  {
   "cell_type": "code",
   "execution_count": null,
   "id": "0d7b6f61",
   "metadata": {},
   "outputs": [],
   "source": []
  },
  {
   "cell_type": "code",
   "execution_count": null,
   "id": "8e98d853",
   "metadata": {},
   "outputs": [
    {
     "data": {
      "text/html": [
       "<video src=\"lammps_box_anari.mp4\" controls  >\n",
       "      Your browser does not support the <code>video</code> element.\n",
       "    </video>"
      ],
      "text/plain": [
       "<IPython.core.display.Video object>"
      ]
     },
     "metadata": {},
     "output_type": "display_data"
    }
   ],
   "source": [
    "from IPython.display import Video\n",
    "Video(\"lammps_box_anari.mp4\")"
   ]
  },
  {
   "cell_type": "markdown",
   "id": "58401074",
   "metadata": {},
   "source": [
    "# ANARI-USD\n",
    "ANARI-USD is an implementation of an ANARI rendering device that outputs data in the USD (Universal Scene Description) format. It allows ANARI applications to render USD scene graphs directly or engage with rendering pipelines to visualize ANARI content using USD-compatible tools and frameworks, including NVIDIA’s Omniverse.\n",
    "\n",
    "This backend is used to stream LAMMPS state into a USD scene for rendering and visualization.\n"
   ]
  },
  {
   "cell_type": "markdown",
   "id": "f9b7d202",
   "metadata": {},
   "source": [
    "## Load Variables"
   ]
  },
  {
   "cell_type": "code",
   "execution_count": null,
   "id": "c33d8716",
   "metadata": {},
   "outputs": [],
   "source": [
    "# Reset os.environ to its original state\n",
    "os.environ.clear()\n",
    "os.environ.update(original_env)"
   ]
  },
  {
   "cell_type": "code",
   "execution_count": null,
   "id": "414b352c",
   "metadata": {},
   "outputs": [
    {
     "name": "stdout",
     "output_type": "stream",
     "text": [
      "/home/droaperdomo/ascent_anari/obj_bin/install/conduit-v0.9.4/bin:/home/droaperdomo/ascent_anari/obj_bin/install/ascent-checkout/bin:/home/droaperdomo/lammps/obj_bin:/home/droaperdomo/tools/hdf5_bin/bin:/home/droaperdomo/tools/zlib_bin/bin:/home/droaperdomo/tools/mpich/bin:/home/droaperdomo/python_venv/venv/bin:/home/droaperdomo/.vscode-server/bin/c306e94f98122556ca081f527b466015e1bc37b0/bin/remote-cli:/home/droaperdomo/.local/bin:/usr/local/sbin:/usr/local/bin:/usr/sbin:/usr/bin:/sbin:/bin:/usr/games:/usr/local/games:/usr/lib/wsl/lib:/mnt/c/Python312/Scripts/:/mnt/c/Python312/:/mnt/c/Program Files/Oculus/Support/oculus-runtime:/mnt/c/Windows/system32:/mnt/c/Windows:/mnt/c/Windows/System32/Wbem:/mnt/c/Windows/System32/WindowsPowerShell/v1.0/:/mnt/c/Windows/System32/OpenSSH/:/mnt/c/Program Files (x86)/NVIDIA Corporation/PhysX/Common:/mnt/c/Program Files/dotnet/:/mnt/c/Program Files (x86)/dotnet/:/mnt/c/ProgramData/chocolatey/bin:/mnt/c/Program Files/nodejs/:/mnt/c/WINDOWS/system32:/mnt/c/WINDOWS:/mnt/c/WINDOWS/System32/Wbem:/mnt/c/WINDOWS/System32/WindowsPowerShell/v1.0/:/mnt/c/WINDOWS/System32/OpenSSH/:/mnt/c/Program Files/NVIDIA Corporation/NVIDIA App/NvDLISR:/mnt/c/Program Files (x86)/Windows Kits/10/Windows Performance Toolkit/:/mnt/c/Users/droaperdomo/LLNL/VisIt3.4.2:/mnt/c/Users/droaperdomo/AppData/Local/Microsoft/WindowsApps:/mnt/c/Users/droaperdomo/AppData/Local/Programs/Microsoft VS Code/bin:/snap/bin\n"
     ]
    }
   ],
   "source": [
    "!echo $PATH"
   ]
  },
  {
   "cell_type": "code",
   "execution_count": null,
   "id": "e81842a9",
   "metadata": {},
   "outputs": [],
   "source": [
    "append_env_from_files(\"python_vars/mpich_vars\")\n",
    "append_env_from_files(\"python_vars/zlib_vars\")\n",
    "append_env_from_files(\"python_vars/hdf5_vars\")\n",
    "append_env_from_files(\"python_vars/lammps_vars\")"
   ]
  },
  {
   "cell_type": "code",
   "execution_count": null,
   "id": "66e1e8ce",
   "metadata": {},
   "outputs": [],
   "source": [
    "append_env_from_files(\"python_vars/ascent_anari_vars\")\n",
    "append_env_from_files(\"python_vars/conduit_anari_vars\")"
   ]
  },
  {
   "cell_type": "markdown",
   "id": "f198c889",
   "metadata": {},
   "source": [
    "## Example: Cube"
   ]
  },
  {
   "cell_type": "code",
   "execution_count": null,
   "id": "80166e31",
   "metadata": {
    "vscode": {
     "languageId": "ruby"
    }
   },
   "outputs": [],
   "source": [
    "void lammps_atoms_to_conduit_mesh(LAMMPS *lmp, Node &mesh)\n",
    "{\n",
    "  Atom *atom = lmp->atom;\n",
    "  int nlocal = atom->nlocal;\n",
    "  double **x = atom->x;\n",
    "  double **v = atom->v;  // Velocity array\n",
    "\n",
    "  // Allocate temporary arrays\n",
    "  float *x_vals = new float[nlocal];\n",
    "  float *y_vals = new float[nlocal];\n",
    "  float *z_vals = new float[nlocal];\n",
    "\n",
    "  float *vx_vals = new float[nlocal];\n",
    "  float *vy_vals = new float[nlocal];\n",
    "  float *vz_vals = new float[nlocal];\n",
    "\n",
    "  for (int i = 0; i < nlocal; i++) {\n",
    "    // Position\n",
    "    x_vals[i] = static_cast<float>(x[i][0]);\n",
    "    y_vals[i] = static_cast<float>(x[i][1]);\n",
    "    z_vals[i] = static_cast<float>(x[i][2]);\n",
    "    // Velocity\n",
    "    vx_vals[i] = static_cast<float>(v[i][0]);\n",
    "    vy_vals[i] = static_cast<float>(v[i][1]);\n",
    "    vz_vals[i] = static_cast<float>(v[i][2]);\n",
    "  }\n",
    "\n",
    "  float *speed_vals = new float[nlocal];\n",
    "  for (int i = 0; i < nlocal; ++i) {\n",
    "      float vx = vx_vals[i];\n",
    "      float vy = vy_vals[i];\n",
    "      float vz = vz_vals[i];\n",
    "      speed_vals[i] = std::sqrt(vx * vx + vy * vy + vz * vz);\n",
    "  }\n",
    "  // Create explicit coordinate set\n",
    "  mesh[\"coordsets/coords/type\"] = \"explicit\";\n",
    "  mesh[\"coordsets/coords/values/x\"].set_external(x_vals, nlocal);\n",
    "  mesh[\"coordsets/coords/values/y\"].set_external(y_vals, nlocal);\n",
    "  mesh[\"coordsets/coords/values/z\"].set_external(z_vals, nlocal);\n",
    "\n",
    "  // Define topology (points)\n",
    "  mesh[\"topologies/topo/type\"] = \"points\";\n",
    "  mesh[\"topologies/topo/coordset\"] = \"coords\";\n",
    "\n",
    "  // Add velocity as a vector field\n",
    "  mesh[\"fields/velocity/association\"] = \"vertex\";\n",
    "  mesh[\"fields/velocity/topology\"] = \"topo\";\n",
    "  mesh[\"fields/velocity/values\"].set_external(speed_vals, nlocal);\n",
    "\n",
    "  // Add simulation time\n",
    "  mesh[\"state/time\"] = lmp->update->ntimestep;\n",
    "}"
   ]
  },
  {
   "cell_type": "code",
   "execution_count": null,
   "id": "3db0e6e8",
   "metadata": {
    "vscode": {
     "languageId": "ruby"
    }
   },
   "outputs": [],
   "source": [
    "int main(int argc, char **argv)\n",
    "{\n",
    "  MPI_Init(&argc, &argv);\n",
    "\n",
    "  // Get Ascent about info\n",
    "  Node ascent_info;\n",
    "  ascent::about(ascent_info);\n",
    "  std::cout << \"Ascent Config:\\n\" << ascent_info.to_yaml() << std::endl;\n",
    "  \n",
    "  // Create LAMMPS instance\n",
    "  LAMMPS *lmp = new LAMMPS(argc, argv, MPI_COMM_WORLD);\n",
    "\n",
    "  // Run input script (e.g., in.lj)\n",
    "  lmp->input->file();\n",
    "\n",
    "  for(int i=0; i<2; ++i) {\n",
    "    lmp->input->one(\"run 10 post no\");\n",
    "    \n",
    "    // Convert atom data to Conduit mesh\n",
    "    Node mesh;\n",
    "    lammps_atoms_to_conduit_mesh(lmp, mesh);\n",
    "    \n",
    "    // Start Ascent and publish mesh\n",
    "    Ascent a;\n",
    "    a.open();\n",
    "    a.publish(mesh);\n",
    "    \n",
    "    // Define actions\n",
    "    Node actions;\n",
    "    Node &add_act = actions.append();\n",
    "    \n",
    "    std::cout << \"Ascent Actions:\\n\" << actions.to_yaml() << std::endl;\n",
    "    \n",
    "    // Render\n",
    "    a.execute(actions);\n",
    "\n",
    "    a.close();\n",
    "  }\n",
    "  \n",
    "  // Cleanup\n",
    "  delete lmp;\n",
    "\n",
    "  MPI_Finalize(); \n",
    "  return 0;\n",
    "}"
   ]
  },
  {
   "cell_type": "code",
   "execution_count": null,
   "id": "23961347",
   "metadata": {
    "vscode": {
     "languageId": "ruby"
    }
   },
   "outputs": [],
   "source": [
    "- action: add_scenes\n",
    "  scenes:\n",
    "    scene1:\n",
    "      plots:\n",
    "        plot1:\n",
    "          type: pseudocolor\n",
    "          field: velocity\n",
    "          points:  \n",
    "            radius: 0.5  # Increased particle radius\n",
    "      renders:\n",
    "        r1:\n",
    "          image_prefix: \"cube_render\"\n",
    "          camera:\n",
    "            look_at: [0.0, 0.0, 0.0]\n",
    "            position: [25.0, 25.0, 25.0]\n",
    "          image_width: 1024\n",
    "          image_height: 768"
   ]
  },
  {
   "cell_type": "code",
   "execution_count": null,
   "id": "692e5baa",
   "metadata": {
    "vscode": {
     "languageId": "ruby"
    }
   },
   "outputs": [],
   "source": []
  },
  {
   "cell_type": "code",
   "execution_count": null,
   "id": "65190ac6",
   "metadata": {},
   "outputs": [],
   "source": [
    "!examples/lammps/cube/build_lammps_ascent_anari.sh"
   ]
  },
  {
   "cell_type": "code",
   "execution_count": null,
   "id": "2e09e115",
   "metadata": {},
   "outputs": [],
   "source": [
    "!examples/lammps/cube/run_ascent_anari.sh &> /dev/null"
   ]
  },
  {
   "cell_type": "code",
   "execution_count": null,
   "id": "bf29053a",
   "metadata": {},
   "outputs": [],
   "source": [
    "!examples/lammps/cube/genmp4.sh"
   ]
  },
  {
   "cell_type": "code",
   "execution_count": null,
   "id": "4c1f4113",
   "metadata": {},
   "outputs": [
    {
     "data": {
      "text/html": [
       "<video src=\"lammps_box_anari.mp4\" controls  >\n",
       "      Your browser does not support the <code>video</code> element.\n",
       "    </video>"
      ],
      "text/plain": [
       "<IPython.core.display.Video object>"
      ]
     },
     "metadata": {},
     "output_type": "display_data"
    }
   ],
   "source": [
    "from IPython.display import Video\n",
    "Video(\"lammps_box_anari.mp4\")"
   ]
  },
  {
   "cell_type": "markdown",
   "id": "90928676",
   "metadata": {},
   "source": [
    "# Omniverse\n",
    "Omniverse is a multi-GPU, collaborative simulation and visualization platform built around USD. It provides infrastructure for real-time rendering, physics simulation, and interaction. In this workflow, Omniverse acts as the visualization environment that consumes the USD scene generated by ANARI-USD, allowing immersive inspection and interaction with the evolving simulation state."
   ]
  }
 ],
 "metadata": {
  "kernelspec": {
   "display_name": "venv",
   "language": "python",
   "name": "python3"
  },
  "language_info": {
   "codemirror_mode": {
    "name": "ipython",
    "version": 3
   },
   "file_extension": ".py",
   "mimetype": "text/x-python",
   "name": "python",
   "nbconvert_exporter": "python",
   "pygments_lexer": "ipython3",
   "version": "3.12.3"
  }
 },
 "nbformat": 4,
 "nbformat_minor": 5
}
